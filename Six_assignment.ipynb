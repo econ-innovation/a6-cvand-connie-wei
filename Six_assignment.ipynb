{
 "cells": [
  {
   "cell_type": "code",
   "execution_count": 15,
   "id": "63e335b1",
   "metadata": {},
   "outputs": [
    {
     "name": "stderr",
     "output_type": "stream",
     "text": [
      "/var/folders/cy/rgx587b13vg099yjcvkjcbjr0000gn/T/ipykernel_50581/2304053075.py:6: DtypeWarning: Columns (0) have mixed types. Specify dtype option on import or set low_memory=False.\n",
      "  cddt_paper = pd.read_csv('/Users/wcl/Downloads/assignment_cvand/cddt_paper.csv')\n"
     ]
    },
    {
     "name": "stdout",
     "output_type": "stream",
     "text": [
      "        ut_char uniqueID                                               addr  \\\n",
      "0  207610701393    0_394  Natl Cheng Kung Univ, Med Ctr, Dept Med, Taina...   \n",
      "1  207610701495    0_117                     Merck Res Labs, Rahway, NJ USA   \n",
      "2  207783700157    1_449  Zhejiang Prov Peoples Hosp, Dept Gastroenterol...   \n",
      "3  207783700182    0_394  Second Mil Med Univ, Dept Gastroenterol, Diges...   \n",
      "4  207910400275    1_449  Toyohashi Univ Technol, Dept Informat Comp Sci...   \n",
      "\n",
      "            item_type  pub_year  type  \n",
      "0    Meeting Abstract    2008.0     2  \n",
      "1    Meeting Abstract    2008.0     2  \n",
      "2  Editorial Material    2009.0     2  \n",
      "3  Editorial Material    2009.0     2  \n",
      "4    Meeting Abstract    1998.0     2  \n"
     ]
    },
    {
     "name": "stderr",
     "output_type": "stream",
     "text": [
      "/var/folders/cy/rgx587b13vg099yjcvkjcbjr0000gn/T/ipykernel_50581/2304053075.py:8: DtypeWarning: Columns (0) have mixed types. Specify dtype option on import or set low_memory=False.\n",
      "  cite_paper = pd.read_csv('/Users/wcl/Downloads/assignment_cvand/cite.csv')\n"
     ]
    },
    {
     "name": "stdout",
     "output_type": "stream",
     "text": [
      "     citing_ut         cited_ut\n",
      "0  60356100016  A1993KT46100012\n",
      "1  70587000013  A1992HU46000003\n",
      "2  70940200019  A1996VF80400056\n",
      "3  70948600013  A1995RR73900017\n",
      "4  70948600023  A1993MM89300019\n"
     ]
    }
   ],
   "source": [
    "import pandas as pd\n",
    "\n",
    "scientist_data = pd.read_csv('/Users/wcl/Downloads/assignment_cvand/scientist.csv')\n",
    "inst_wos_dict = pd.read_csv('/Users/wcl/Downloads/assignment_cvand/inst_wos_dict.csv')\n",
    "merged_data = pd.merge(scientist_data, inst_wos_dict, on='inst', how='inner')\n",
    "cddt_paper = pd.read_csv('/Users/wcl/Downloads/assignment_cvand/cddt_paper.csv')\n",
    "print(cddt_paper.head())\n",
    "cite_paper = pd.read_csv('/Users/wcl/Downloads/assignment_cvand/cite.csv')\n",
    "print(cite_paper.head())\n",
    "\n",
    "\n",
    "def filter_matched_papers(inst, startyear,endyear, type_1, cddt_paper):\n",
    "    filtered_df = cddt_paper[cddt_paper['addr'].str.contains(inst, case=False)]\n",
    "    matched_papers = filtered_df[(filtered_df['pub_year'].between(startyear, endyear)) & (filtered_df['type_1'] == 1)]\n",
    "    return matched_papers\n",
    "\n",
    "def second_filter_related_papers(matched_papers, cite_file):\n",
    "    unique_ids = list(set(matched_papers['ut_char'].tolist()))\n",
    "    related_papers = cite_paper[(cite_paper['citing_ut'].isin(unique_ids)) | (cite_paper['cited_ut'].isin(unique_ids))]\n",
    "    paper_ids = list(set(related_papers['citing_ut'].tolist() + related_papers['cited_ut'].tolist()))\n",
    "    related_paper_df = pd.DataFrame({'ut_char': paper_ids})\n",
    "    return related_paper_df "
   ]
  },
  {
   "cell_type": "code",
   "execution_count": 12,
   "id": "1b3e9273",
   "metadata": {},
   "outputs": [],
   "source": [
    "paper_info = []\n",
    "for i,v in merged_data.iterrows():\n",
    "    ut_char = v['ut_char']\n",
    "    uniqueID = v['uniqueID']\n",
    "    addr = v['addr']\n",
    "    type_1 = v['type']\n",
    "    pub_year = v['pub_year']\n",
    "    first_step_match = filter_matched_papers(inst, startyear,endyear, type_1, cddt_paper)\n",
    "    print(first_step_match)\n",
    "    second_step_match = second_filter_related_papers(first_step_match, cite_paper)\n",
    "    merged_data_list = pd.merge(second_step_match, cddt_paper, on='ut_char', how='inner')['uniqueID'].tolist\n",
    "    merged_data_list_df = pd.DataFrame({'uniqueID': merged_data_list})\n",
    "    paper_info_final = filter_matched_papers(inst, startyear,endyear, type_1, merged_data_list_df)['uniqueID'].tolist()\n",
    "    for item_ut_char in paper_info_final:\n",
    "        paper_info.append([uniqueID,item_ut_char])"
   ]
  }
 ],
 "metadata": {
  "kernelspec": {
   "display_name": "Python 3 (ipykernel)",
   "language": "python",
   "name": "python3"
  },
  "language_info": {
   "codemirror_mode": {
    "name": "ipython",
    "version": 3
   },
   "file_extension": ".py",
   "mimetype": "text/x-python",
   "name": "python",
   "nbconvert_exporter": "python",
   "pygments_lexer": "ipython3",
   "version": "3.11.5"
  }
 },
 "nbformat": 4,
 "nbformat_minor": 5
}
